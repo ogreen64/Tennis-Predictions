{
 "cells": [
  {
   "cell_type": "code",
   "execution_count": 1,
   "id": "7e17f524-fe01-4aae-9b7f-a3ca4917a32b",
   "metadata": {},
   "outputs": [],
   "source": [
    "import pandas as pd\n",
    "import warnings"
   ]
  },
  {
   "cell_type": "code",
   "execution_count": 2,
   "id": "b2c78afd-6a09-41d9-a610-f97138c3de04",
   "metadata": {},
   "outputs": [],
   "source": [
    "pd.set_option('display.max_columns', None)\n",
    "warnings.filterwarnings('ignore', category=FutureWarning)\n",
    "warnings.filterwarnings('ignore', category=UserWarning)"
   ]
  },
  {
   "cell_type": "code",
   "execution_count": 3,
   "id": "0e529b69-588e-417b-8647-29bd18f70e62",
   "metadata": {},
   "outputs": [],
   "source": [
    "def create_df():\n",
    "    # This function creates a simple dataframe with all the info we need from the dataset\n",
    "    dfs = []\n",
    "    features = ['ATP', 'Location', 'Tournament', 'Date', 'Series', 'Court', 'Surface',\n",
    "       'Round', 'Best of', 'Winner', 'Loser', 'WRank', 'LRank', 'WPts', 'LPts',\n",
    "       'W1', 'L1', 'W2', 'L2', 'W3', 'L3', 'W4', 'L4', 'Comment','B365W','B365L','PSW','PSL']\n",
    "    for year in range(2000,2026):\n",
    "        # Pre 2013 data is stored in xls rather than xlsx files\n",
    "        if year < 2013:\n",
    "            df_year = pd.read_excel(f\"C:\\\\Users\\\\olive\\\\Python Projects\\\\Tennis Predictions\\\\data\\\\{year}.xls\")\n",
    "        else:\n",
    "            df_year = pd.read_excel(f\"C:\\\\Users\\\\olive\\\\Python Projects\\\\Tennis Predictions\\\\data\\\\{year}.xlsx\")\n",
    "        # Some years do not include the following features so we introduce them as NA columns\n",
    "        for feature in ['WPts', 'LPts','B365W','B365L','PSW','PSL']:\n",
    "            if feature not in df_year.columns:\n",
    "                df_year[feature] = pd.NA\n",
    "        # Some features in the data are not relevant so we exclude them\n",
    "        df_year = df_year[features]\n",
    "        dfs.append(df_year)\n",
    "    df = pd.concat(dfs, ignore_index=True)\n",
    "    return df"
   ]
  },
  {
   "cell_type": "code",
   "execution_count": 4,
   "id": "a76a74b4-7ef3-49ad-b9d8-d3c3c363a020",
   "metadata": {},
   "outputs": [],
   "source": [
    "def convert_dates(df):\n",
    "    # This function converts the date feature into day, month and year features which have integer values\n",
    "    df['Day'] = pd.to_datetime(df['Date'].values).day\n",
    "    df['Month'] = pd.to_datetime(df['Date'].values).month\n",
    "    df['Year'] = pd.to_datetime(df['Date'].values).year\n",
    "    df = df.drop('Date', axis = 1)\n",
    "    return df"
   ]
  },
  {
   "cell_type": "code",
   "execution_count": 5,
   "id": "97da8829-c137-45d0-ae1b-cbc4e96c48e9",
   "metadata": {},
   "outputs": [],
   "source": [
    "def create_unbiased_df(df):\n",
    "    # This function creates a new dataframe which does not assume knowledge of the match result anywhere\n",
    "    df = df.copy()\n",
    "    # First we rename all variable names that include reference to the winner or loser\n",
    "    new_names = {'Winner': 'Player 1', 'Loser': 'Player 2', 'WRank': 'P1 Rank', 'LRank': 'P2 Rank', \n",
    "        'WPts': 'P1 Pts', 'LPts': 'P2 Pts', 'W1': 'P1 Set 1', 'L1': 'P2 Set 1', 'W2': 'P1 Set 2',\n",
    "        'L2': 'P2 Set 2', 'W3': 'P1 Set 3', 'L3': 'P2 Set 3', 'W4': 'P1 Set 4', 'L4': 'P2 Set 4',\n",
    "        'B365W': 'B365 P1', 'B365L': 'B365 P2', 'PSW': 'PS P1', 'PSL': 'PS P2'}\n",
    "    df.rename(columns = new_names, inplace = True)\n",
    "    '''\n",
    "    Next we order the players alphabetically and switch player-based features accordingly\n",
    "    We denote the name 'wrong_rows' to all rows where the players are not alread in alphabetical order\n",
    "    The rows are the only ones that require any switching\n",
    "    '''\n",
    "    wrong_rows = df['Player 1'] > df['Player 2']\n",
    "    P1_features = list(new_names.values())[::2]\n",
    "    P2_features = list(new_names.values())[1::2]\n",
    "    temp = df.loc[wrong_rows, P1_features].copy()\n",
    "    df.loc[wrong_rows, P1_features] = df.loc[wrong_rows, P2_features].values\n",
    "    df.loc[wrong_rows, P2_features] = temp.values\n",
    "    return df"
   ]
  },
  {
   "cell_type": "code",
   "execution_count": 6,
   "id": "835887ff-6ce6-45a9-8cbe-7b30330e6793",
   "metadata": {},
   "outputs": [],
   "source": [
    "def add_target_var(df, unbiased_df):\n",
    "    # This function produces a dataframe containing the target variable 'Result'\n",
    "    unbiased_df['Result'] = (df['Winner'] == unbiased_df['Player 1']).astype(int)\n",
    "    return unbiased_df"
   ]
  },
  {
   "cell_type": "code",
   "execution_count": 7,
   "id": "7bdb37e1-f6ba-43f2-a4e5-5e8927d9da8a",
   "metadata": {},
   "outputs": [],
   "source": [
    "df = create_df()\n",
    "df = convert_dates(df)\n",
    "unbiased_df = create_unbiased_df(df)\n",
    "df = add_target_var(df, unbiased_df)\n",
    "df.to_csv('df.csv', index = False)"
   ]
  }
 ],
 "metadata": {
  "kernelspec": {
   "display_name": "Python 3 (ipykernel)",
   "language": "python",
   "name": "python3"
  },
  "language_info": {
   "codemirror_mode": {
    "name": "ipython",
    "version": 3
   },
   "file_extension": ".py",
   "mimetype": "text/x-python",
   "name": "python",
   "nbconvert_exporter": "python",
   "pygments_lexer": "ipython3",
   "version": "3.13.5"
  }
 },
 "nbformat": 4,
 "nbformat_minor": 5
}
