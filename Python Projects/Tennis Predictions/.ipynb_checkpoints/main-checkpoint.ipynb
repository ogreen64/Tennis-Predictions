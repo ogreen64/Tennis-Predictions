{
 "cells": [
  {
   "cell_type": "code",
   "execution_count": null,
   "id": "7e17f524-fe01-4aae-9b7f-a3ca4917a32b",
   "metadata": {},
   "outputs": [],
   "source": [
    "import pandas as pd"
   ]
  },
  {
   "cell_type": "code",
   "execution_count": null,
   "id": "0e529b69-588e-417b-8647-29bd18f70e62",
   "metadata": {},
   "outputs": [],
   "source": [
    "def create_df():\n",
    "    for year in range(2000,2013):\n",
    "        df_year = pd.read_excel(f\"C:\\\\Users\\\\olive\\\\Python Projects\\\\Tennis\\\\data\\\\{year}.xls\")\n",
    "        df_year_no_odds = df_year.iloc[:,:27]\n",
    "        print(df_year_no_odds.head())\n",
    "    for year in range(2013,2026):\n",
    "        df_year = pd.read_excel(f\"C:\\\\Users\\\\olive\\\\Python Projects\\\\Tennis\\\\data\\\\{year}.xlsx\")\n",
    "        df_year_no_odds = df_year.iloc[:,:27]\n",
    "        print(df_year_no_odds.head())"
   ]
  },
  {
   "cell_type": "code",
   "execution_count": null,
   "id": "6e4f6b58-a7d3-462c-9b28-9937268ab098",
   "metadata": {},
   "outputs": [],
   "source": [
    "create_df()"
   ]
  }
 ],
 "metadata": {
  "kernelspec": {
   "display_name": "Python 3 (ipykernel)",
   "language": "python",
   "name": "python3"
  },
  "language_info": {
   "codemirror_mode": {
    "name": "ipython",
    "version": 3
   },
   "file_extension": ".py",
   "mimetype": "text/x-python",
   "name": "python",
   "nbconvert_exporter": "python",
   "pygments_lexer": "ipython3",
   "version": "3.13.5"
  }
 },
 "nbformat": 4,
 "nbformat_minor": 5
}
