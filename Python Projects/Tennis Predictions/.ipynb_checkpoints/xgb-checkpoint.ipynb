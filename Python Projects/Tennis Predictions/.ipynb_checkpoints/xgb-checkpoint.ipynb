{
 "cells": [
  {
   "cell_type": "code",
   "execution_count": 1,
   "id": "bef2252b-b103-46dd-903b-f39c01f3c3da",
   "metadata": {},
   "outputs": [],
   "source": [
    "import pandas as pd\n",
    "from xgboost import XGBClassifier\n",
    "from sklearn.metrics import accuracy_score"
   ]
  },
  {
   "cell_type": "code",
   "execution_count": 2,
   "id": "d2d364d1-3351-4acf-95e7-29bc68cfc6d8",
   "metadata": {},
   "outputs": [],
   "source": [
    "pd.set_option('display.max_columns', None)"
   ]
  },
  {
   "cell_type": "code",
   "execution_count": 3,
   "id": "b01a2512-79f0-42ce-a263-0af68cfe51f6",
   "metadata": {},
   "outputs": [],
   "source": [
    "def xgb(X_train, y_train, data, parameters):\n",
    "    xgb = XGBClassifier(max_depth = parameters['max_depth'], n_estimators = parameters['n_estimators'], learning_rate = parameters['learning_rate'],\n",
    "                       random_state = parameters['random_state'])\n",
    "    xgb.fit(X_train, y_train.values.ravel())\n",
    "    prediction = xgb.predict(data)\n",
    "    return prediction"
   ]
  },
  {
   "cell_type": "code",
   "execution_count": 4,
   "id": "bb85464e-f11d-4ef8-848f-58e5e95cb309",
   "metadata": {},
   "outputs": [
    {
     "name": "stdout",
     "output_type": "stream",
     "text": [
      "Train accuracy: 69.51014274981218%\n",
      "Test accuracy: 67.24738675958189%\n"
     ]
    }
   ],
   "source": [
    "df = pd.read_csv('preprocessed_df_xgb.csv')\n",
    "X_train = df.loc[df['Year'] < df['Year'].max(), df.columns[:-1]]\n",
    "X_test = df.loc[df['Year'] >= df['Year'].max(), df.columns[:-1]]\n",
    "y_train = df.loc[df['Year'] < df['Year'].max(), df.columns[-1:]]\n",
    "y_test = df.loc[df['Year'] >= df['Year'].max(), df.columns[-1:]]\n",
    "parameters = {'max_depth': 6, 'n_estimators': 500, 'learning_rate': 0.01, 'random_state': 1}\n",
    "y_train_pred = xgb(X_train, y_train, X_train, parameters)\n",
    "y_test_pred = xgb(X_train, y_train, X_test, parameters)\n",
    "train_accuracy = accuracy_score(y_train, y_train_pred)\n",
    "test_accuracy = accuracy_score(y_test, y_test_pred)\n",
    "print(f'Train accuracy: {train_accuracy*100}%')\n",
    "print(f'Test accuracy: {test_accuracy*100}%')"
   ]
  }
 ],
 "metadata": {
  "kernelspec": {
   "display_name": "Python 3 (ipykernel)",
   "language": "python",
   "name": "python3"
  },
  "language_info": {
   "codemirror_mode": {
    "name": "ipython",
    "version": 3
   },
   "file_extension": ".py",
   "mimetype": "text/x-python",
   "name": "python",
   "nbconvert_exporter": "python",
   "pygments_lexer": "ipython3",
   "version": "3.13.5"
  }
 },
 "nbformat": 4,
 "nbformat_minor": 5
}
