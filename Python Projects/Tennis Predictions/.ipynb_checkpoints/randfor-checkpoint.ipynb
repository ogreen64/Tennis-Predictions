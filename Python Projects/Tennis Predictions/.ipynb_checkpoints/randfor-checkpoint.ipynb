{
 "cells": [
  {
   "cell_type": "code",
   "execution_count": 1,
   "id": "1b542462-e0e2-4d50-9c89-137b43af1d9d",
   "metadata": {},
   "outputs": [],
   "source": [
    "import pandas as pd\n",
    "from sklearn.ensemble import RandomForestClassifier\n",
    "from sklearn.metrics import accuracy_score"
   ]
  },
  {
   "cell_type": "code",
   "execution_count": 2,
   "id": "d09beab8-05ab-497e-8096-b06203ecb05a",
   "metadata": {},
   "outputs": [],
   "source": [
    "pd.set_option('display.max_columns', None)"
   ]
  },
  {
   "cell_type": "code",
   "execution_count": 3,
   "id": "8048a29e-ad1f-4f08-89a2-5e45205bae4e",
   "metadata": {},
   "outputs": [],
   "source": [
    "def randfor(X_train, y_train, data, parameters):\n",
    "    randfor = RandomForestClassifier(random_state = 1, max_depth = parameters['max_depth'])\n",
    "    randfor.fit(X_train, y_train.values.ravel())\n",
    "    prediction = randfor.predict(data)\n",
    "    return prediction"
   ]
  },
  {
   "cell_type": "code",
   "execution_count": 4,
   "id": "b56939cd-9b4b-486e-93d1-f8f542e48a50",
   "metadata": {},
   "outputs": [
    {
     "name": "stdout",
     "output_type": "stream",
     "text": [
      "Train accuracy: 0.6859504132231405\n",
      "Test accuracy: 0.6749626679940269\n"
     ]
    }
   ],
   "source": [
    "df = pd.read_csv('preprocessed_df_randfor.csv')\n",
    "X_train = df.loc[df['Year'] < df['Year'].max(), df.columns[:-1]]\n",
    "X_test = df.loc[df['Year'] >= df['Year'].max(), df.columns[:-1]]\n",
    "y_train = df.loc[df['Year'] < df['Year'].max(), df.columns[-1:]]\n",
    "y_test = df.loc[df['Year'] >= df['Year'].max(), df.columns[-1:]]\n",
    "parameters = {'max_depth': 5}\n",
    "y_train_pred = randfor(X_train, y_train, X_train, parameters)\n",
    "y_test_pred = randfor(X_train, y_train, X_test, parameters)\n",
    "train_accuracy = accuracy_score(y_train, y_train_pred)\n",
    "test_accuracy = accuracy_score(y_test, y_test_pred)\n",
    "print(f'Train accuracy: {train_accuracy}')\n",
    "print(f'Test accuracy: {test_accuracy}')"
   ]
  },
  {
   "cell_type": "code",
   "execution_count": null,
   "id": "075d67b9-2cc9-43ae-b57c-bd02223538fe",
   "metadata": {},
   "outputs": [],
   "source": []
  }
 ],
 "metadata": {
  "kernelspec": {
   "display_name": "Python 3 (ipykernel)",
   "language": "python",
   "name": "python3"
  },
  "language_info": {
   "codemirror_mode": {
    "name": "ipython",
    "version": 3
   },
   "file_extension": ".py",
   "mimetype": "text/x-python",
   "name": "python",
   "nbconvert_exporter": "python",
   "pygments_lexer": "ipython3",
   "version": "3.13.5"
  }
 },
 "nbformat": 4,
 "nbformat_minor": 5
}
