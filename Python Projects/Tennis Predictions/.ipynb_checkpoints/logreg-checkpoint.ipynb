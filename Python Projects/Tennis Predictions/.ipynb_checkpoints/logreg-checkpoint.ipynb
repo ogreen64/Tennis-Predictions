{
 "cells": [
  {
   "cell_type": "code",
   "execution_count": 1,
   "id": "46ea2110-a8ee-4ec9-916a-a2b152f4a6cd",
   "metadata": {},
   "outputs": [],
   "source": [
    "import pandas as pd\n",
    "from sklearn.linear_model import LogisticRegression\n",
    "from sklearn.metrics import accuracy_score"
   ]
  },
  {
   "cell_type": "code",
   "execution_count": 2,
   "id": "f3ac314e-600f-40e5-a715-40514cf0ae46",
   "metadata": {},
   "outputs": [],
   "source": [
    "pd.set_option('display.max_columns', None)"
   ]
  },
  {
   "cell_type": "code",
   "execution_count": 3,
   "id": "74691906-aefe-40fc-9271-e76519e9e476",
   "metadata": {},
   "outputs": [],
   "source": [
    "def logreg(X_train, y_train, data, parameters):\n",
    "    logreg = LogisticRegression()\n",
    "    logreg.fit(X_train, y_train.values.ravel())\n",
    "    prediction = logreg.predict(data)\n",
    "    return prediction"
   ]
  },
  {
   "cell_type": "code",
   "execution_count": 4,
   "id": "aa7e625e-3b87-401a-810f-7cf58b74b71f",
   "metadata": {},
   "outputs": [
    {
     "name": "stdout",
     "output_type": "stream",
     "text": [
      "Train accuracy: 0.6843726521412472\n",
      "Test accuracy: 0.670980587356894\n"
     ]
    }
   ],
   "source": [
    "df = pd.read_csv('preprocessed_df_logreg.csv')\n",
    "X_train = df.loc[df['Year'] < df['Year'].max(), df.columns[:-1]]\n",
    "X_test = df.loc[df['Year'] >= df['Year'].max(), df.columns[:-1]]\n",
    "y_train = df.loc[df['Year'] < df['Year'].max(), df.columns[-1:]]\n",
    "y_test = df.loc[df['Year'] >= df['Year'].max(), df.columns[-1:]]\n",
    "parameters = {}\n",
    "y_train_pred = logreg(X_train, y_train, X_train, parameters)\n",
    "y_test_pred = logreg(X_train, y_train, X_test, parameters)\n",
    "train_accuracy = accuracy_score(y_train, y_train_pred)\n",
    "test_accuracy = accuracy_score(y_test, y_test_pred)\n",
    "print(f'Train accuracy: {train_accuracy}')\n",
    "print(f'Test accuracy: {test_accuracy}')"
   ]
  }
 ],
 "metadata": {
  "kernelspec": {
   "display_name": "Python 3 (ipykernel)",
   "language": "python",
   "name": "python3"
  },
  "language_info": {
   "codemirror_mode": {
    "name": "ipython",
    "version": 3
   },
   "file_extension": ".py",
   "mimetype": "text/x-python",
   "name": "python",
   "nbconvert_exporter": "python",
   "pygments_lexer": "ipython3",
   "version": "3.13.5"
  }
 },
 "nbformat": 4,
 "nbformat_minor": 5
}
